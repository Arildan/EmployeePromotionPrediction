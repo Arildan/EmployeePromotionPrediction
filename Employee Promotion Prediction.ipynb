{
 "cells": [
  {
   "cell_type": "code",
   "execution_count": 1,
   "id": "0905b931",
   "metadata": {},
   "outputs": [],
   "source": [
    "import pandas as pd\n",
    "import matplotlib.pyplot as plt\n",
    "import seaborn as sns\n",
    "import warnings\n",
    "import numpy as np\n",
    "import imblearn\n",
    "\n",
    "warnings.filterwarnings('ignore')\n",
    "pd.set_option('display.max_columns', 100)\n",
    "plt.style.use('fivethirtyeight')"
   ]
  },
  {
   "cell_type": "code",
   "execution_count": 2,
   "id": "775327a3",
   "metadata": {},
   "outputs": [
    {
     "data": {
      "text/html": [
       "<div>\n",
       "<style scoped>\n",
       "    .dataframe tbody tr th:only-of-type {\n",
       "        vertical-align: middle;\n",
       "    }\n",
       "\n",
       "    .dataframe tbody tr th {\n",
       "        vertical-align: top;\n",
       "    }\n",
       "\n",
       "    .dataframe thead th {\n",
       "        text-align: right;\n",
       "    }\n",
       "</style>\n",
       "<table border=\"1\" class=\"dataframe\">\n",
       "  <thead>\n",
       "    <tr style=\"text-align: right;\">\n",
       "      <th></th>\n",
       "      <th>employee_id</th>\n",
       "      <th>department</th>\n",
       "      <th>region</th>\n",
       "      <th>education</th>\n",
       "      <th>gender</th>\n",
       "      <th>recruitment_channel</th>\n",
       "      <th>no_of_trainings</th>\n",
       "      <th>age</th>\n",
       "      <th>previous_year_rating</th>\n",
       "      <th>length_of_service</th>\n",
       "      <th>KPIs_met &gt;80%</th>\n",
       "      <th>awards_won?</th>\n",
       "      <th>avg_training_score</th>\n",
       "      <th>is_promoted</th>\n",
       "    </tr>\n",
       "  </thead>\n",
       "  <tbody>\n",
       "    <tr>\n",
       "      <th>0</th>\n",
       "      <td>1264</td>\n",
       "      <td>Finance</td>\n",
       "      <td>region_7</td>\n",
       "      <td>Bachelor's</td>\n",
       "      <td>m</td>\n",
       "      <td>other</td>\n",
       "      <td>1</td>\n",
       "      <td>31</td>\n",
       "      <td>3.0</td>\n",
       "      <td>3</td>\n",
       "      <td>0</td>\n",
       "      <td>0</td>\n",
       "      <td>62</td>\n",
       "      <td>0</td>\n",
       "    </tr>\n",
       "    <tr>\n",
       "      <th>1</th>\n",
       "      <td>18375</td>\n",
       "      <td>Finance</td>\n",
       "      <td>region_7</td>\n",
       "      <td>Bachelor's</td>\n",
       "      <td>m</td>\n",
       "      <td>other</td>\n",
       "      <td>1</td>\n",
       "      <td>31</td>\n",
       "      <td>5.0</td>\n",
       "      <td>7</td>\n",
       "      <td>1</td>\n",
       "      <td>0</td>\n",
       "      <td>62</td>\n",
       "      <td>0</td>\n",
       "    </tr>\n",
       "    <tr>\n",
       "      <th>2</th>\n",
       "      <td>34167</td>\n",
       "      <td>Operations</td>\n",
       "      <td>region_2</td>\n",
       "      <td>Bachelor's</td>\n",
       "      <td>m</td>\n",
       "      <td>other</td>\n",
       "      <td>1</td>\n",
       "      <td>53</td>\n",
       "      <td>3.0</td>\n",
       "      <td>22</td>\n",
       "      <td>0</td>\n",
       "      <td>0</td>\n",
       "      <td>67</td>\n",
       "      <td>0</td>\n",
       "    </tr>\n",
       "    <tr>\n",
       "      <th>3</th>\n",
       "      <td>14280</td>\n",
       "      <td>Technology</td>\n",
       "      <td>region_29</td>\n",
       "      <td>Bachelor's</td>\n",
       "      <td>m</td>\n",
       "      <td>other</td>\n",
       "      <td>1</td>\n",
       "      <td>27</td>\n",
       "      <td>2.0</td>\n",
       "      <td>2</td>\n",
       "      <td>1</td>\n",
       "      <td>0</td>\n",
       "      <td>81</td>\n",
       "      <td>0</td>\n",
       "    </tr>\n",
       "    <tr>\n",
       "      <th>4</th>\n",
       "      <td>24219</td>\n",
       "      <td>Sales &amp; Marketing</td>\n",
       "      <td>region_26</td>\n",
       "      <td>Bachelor's</td>\n",
       "      <td>m</td>\n",
       "      <td>other</td>\n",
       "      <td>1</td>\n",
       "      <td>44</td>\n",
       "      <td>3.0</td>\n",
       "      <td>6</td>\n",
       "      <td>1</td>\n",
       "      <td>0</td>\n",
       "      <td>57</td>\n",
       "      <td>0</td>\n",
       "    </tr>\n",
       "  </tbody>\n",
       "</table>\n",
       "</div>"
      ],
      "text/plain": [
       "   employee_id         department     region   education gender  \\\n",
       "0         1264            Finance   region_7  Bachelor's      m   \n",
       "1        18375            Finance   region_7  Bachelor's      m   \n",
       "2        34167         Operations   region_2  Bachelor's      m   \n",
       "3        14280         Technology  region_29  Bachelor's      m   \n",
       "4        24219  Sales & Marketing  region_26  Bachelor's      m   \n",
       "\n",
       "  recruitment_channel  no_of_trainings  age  previous_year_rating  \\\n",
       "0               other                1   31                   3.0   \n",
       "1               other                1   31                   5.0   \n",
       "2               other                1   53                   3.0   \n",
       "3               other                1   27                   2.0   \n",
       "4               other                1   44                   3.0   \n",
       "\n",
       "   length_of_service  KPIs_met >80%  awards_won?  avg_training_score  \\\n",
       "0                  3              0            0                  62   \n",
       "1                  7              1            0                  62   \n",
       "2                 22              0            0                  67   \n",
       "3                  2              1            0                  81   \n",
       "4                  6              1            0                  57   \n",
       "\n",
       "   is_promoted  \n",
       "0            0  \n",
       "1            0  \n",
       "2            0  \n",
       "3            0  \n",
       "4            0  "
      ]
     },
     "execution_count": 2,
     "metadata": {},
     "output_type": "execute_result"
    }
   ],
   "source": [
    "data = pd.read_csv('employee.csv')\n",
    "data.head()"
   ]
  },
  {
   "cell_type": "markdown",
   "id": "7863411e",
   "metadata": {},
   "source": [
    "#### Data Cleansing"
   ]
  },
  {
   "cell_type": "code",
   "execution_count": 3,
   "id": "04e32d2a",
   "metadata": {},
   "outputs": [
    {
     "data": {
      "text/plain": [
       "False"
      ]
     },
     "execution_count": 3,
     "metadata": {},
     "output_type": "execute_result"
    }
   ],
   "source": [
    "data.duplicated().any()"
   ]
  },
  {
   "cell_type": "code",
   "execution_count": 4,
   "id": "1c379c74",
   "metadata": {},
   "outputs": [],
   "source": [
    "def check_missing(dataframe):\n",
    "    df_miss = pd.DataFrame(dataframe.isnull().sum(),columns=['Count'])\n",
    "    df_miss['percent']= round(dataframe.isnull().sum()/dataframe.shape[0]*100, 2)\n",
    "    df_miss.reset_index(inplace=True)\n",
    "    tipe = []\n",
    "    for kolom in list(df_miss['index']):\n",
    "        tipe.append(data[kolom].dtype)\n",
    "    df_miss['TipeData'] = tipe\n",
    "    return df_miss.loc[df_miss['Count']>0, :]"
   ]
  },
  {
   "cell_type": "code",
   "execution_count": 5,
   "id": "9736b4bb",
   "metadata": {},
   "outputs": [
    {
     "data": {
      "text/html": [
       "<div>\n",
       "<style scoped>\n",
       "    .dataframe tbody tr th:only-of-type {\n",
       "        vertical-align: middle;\n",
       "    }\n",
       "\n",
       "    .dataframe tbody tr th {\n",
       "        vertical-align: top;\n",
       "    }\n",
       "\n",
       "    .dataframe thead th {\n",
       "        text-align: right;\n",
       "    }\n",
       "</style>\n",
       "<table border=\"1\" class=\"dataframe\">\n",
       "  <thead>\n",
       "    <tr style=\"text-align: right;\">\n",
       "      <th></th>\n",
       "      <th>index</th>\n",
       "      <th>Count</th>\n",
       "      <th>percent</th>\n",
       "      <th>TipeData</th>\n",
       "    </tr>\n",
       "  </thead>\n",
       "  <tbody>\n",
       "    <tr>\n",
       "      <th>3</th>\n",
       "      <td>education</td>\n",
       "      <td>1429</td>\n",
       "      <td>4.35</td>\n",
       "      <td>object</td>\n",
       "    </tr>\n",
       "    <tr>\n",
       "      <th>8</th>\n",
       "      <td>previous_year_rating</td>\n",
       "      <td>2467</td>\n",
       "      <td>7.50</td>\n",
       "      <td>float64</td>\n",
       "    </tr>\n",
       "  </tbody>\n",
       "</table>\n",
       "</div>"
      ],
      "text/plain": [
       "                  index  Count  percent TipeData\n",
       "3             education   1429     4.35   object\n",
       "8  previous_year_rating   2467     7.50  float64"
      ]
     },
     "execution_count": 5,
     "metadata": {},
     "output_type": "execute_result"
    }
   ],
   "source": [
    "check_missing(data)"
   ]
  },
  {
   "cell_type": "code",
   "execution_count": 6,
   "id": "66d23d11",
   "metadata": {},
   "outputs": [
    {
     "data": {
      "text/plain": [
       "array([\"Bachelor's\", \"Master's & above\", nan, 'Below Secondary'],\n",
       "      dtype=object)"
      ]
     },
     "execution_count": 6,
     "metadata": {},
     "output_type": "execute_result"
    }
   ],
   "source": [
    "data['education'].unique()"
   ]
  },
  {
   "cell_type": "code",
   "execution_count": 7,
   "id": "25a79c54",
   "metadata": {},
   "outputs": [],
   "source": [
    "data['education'] = data['education'].fillna(data['education'].mode()[0])"
   ]
  },
  {
   "cell_type": "code",
   "execution_count": 8,
   "id": "a8f1a0b4",
   "metadata": {},
   "outputs": [
    {
     "data": {
      "text/plain": [
       "array([ 3.,  5.,  2.,  4.,  1., nan])"
      ]
     },
     "execution_count": 8,
     "metadata": {},
     "output_type": "execute_result"
    }
   ],
   "source": [
    "data['previous_year_rating'].unique()"
   ]
  },
  {
   "cell_type": "code",
   "execution_count": 9,
   "id": "4da1a307",
   "metadata": {},
   "outputs": [],
   "source": [
    "data['previous_year_rating'] = data['previous_year_rating'].fillna(data['previous_year_rating'].mode()[0])"
   ]
  },
  {
   "cell_type": "code",
   "execution_count": 10,
   "id": "62a1ae40",
   "metadata": {},
   "outputs": [
    {
     "data": {
      "text/html": [
       "<div>\n",
       "<style scoped>\n",
       "    .dataframe tbody tr th:only-of-type {\n",
       "        vertical-align: middle;\n",
       "    }\n",
       "\n",
       "    .dataframe tbody tr th {\n",
       "        vertical-align: top;\n",
       "    }\n",
       "\n",
       "    .dataframe thead th {\n",
       "        text-align: right;\n",
       "    }\n",
       "</style>\n",
       "<table border=\"1\" class=\"dataframe\">\n",
       "  <thead>\n",
       "    <tr style=\"text-align: right;\">\n",
       "      <th></th>\n",
       "      <th>index</th>\n",
       "      <th>Count</th>\n",
       "      <th>percent</th>\n",
       "      <th>TipeData</th>\n",
       "    </tr>\n",
       "  </thead>\n",
       "  <tbody>\n",
       "  </tbody>\n",
       "</table>\n",
       "</div>"
      ],
      "text/plain": [
       "Empty DataFrame\n",
       "Columns: [index, Count, percent, TipeData]\n",
       "Index: []"
      ]
     },
     "execution_count": 10,
     "metadata": {},
     "output_type": "execute_result"
    }
   ],
   "source": [
    "check_missing(data)"
   ]
  },
  {
   "cell_type": "code",
   "execution_count": 11,
   "id": "3256644c",
   "metadata": {
    "scrolled": true
   },
   "outputs": [
    {
     "data": {
      "text/plain": [
       "<AxesSubplot:>"
      ]
     },
     "execution_count": 11,
     "metadata": {},
     "output_type": "execute_result"
    },
    {
     "data": {
      "image/png": "[encoded data removed]",
      "text/plain": [
       "<Figure size 432x288 with 1 Axes>"
      ]
     },
     "metadata": {},
     "output_type": "display_data"
    }
   ],
   "source": [
    "data['is_promoted'].value_counts().plot.bar()"
   ]
  },
  {
   "cell_type": "markdown",
   "id": "1f1a73f7",
   "metadata": {},
   "source": [
    "### Data Preparation"
   ]
  },
  {
   "cell_type": "code",
   "execution_count": 12,
   "id": "eeb87661",
   "metadata": {
    "scrolled": true
   },
   "outputs": [
    {
     "name": "stdout",
     "output_type": "stream",
     "text": [
      "department\n",
      "['Finance' 'Operations' 'Technology' 'Sales & Marketing' 'Procurement'\n",
      " 'Analytics' 'HR' 'R&D' 'Legal']\n",
      "9\n",
      "region\n",
      "['region_7' 'region_2' 'region_29' 'region_26' 'region_15' 'region_34'\n",
      " 'region_32' 'region_31' 'region_16' 'region_17' 'region_22' 'region_6'\n",
      " 'region_11' 'region_14' 'region_27' 'region_13' 'region_9' 'region_12'\n",
      " 'region_21' 'region_28' 'region_23' 'region_20' 'region_4' 'region_1'\n",
      " 'region_24' 'region_25' 'region_19' 'region_3' 'region_18' 'region_8'\n",
      " 'region_30' 'region_10' 'region_33' 'region_5']\n",
      "34\n",
      "education\n",
      "[\"Bachelor's\" \"Master's & above\" 'Below Secondary']\n",
      "3\n",
      "gender\n",
      "['m' 'f']\n",
      "2\n",
      "recruitment_channel\n",
      "['other' 'referred' 'sourcing']\n",
      "3\n"
     ]
    }
   ],
   "source": [
    "obj_col = list(data.select_dtypes('object').columns)\n",
    "for kolom in obj_col:\n",
    "    print(kolom)\n",
    "    print(data[kolom].unique())\n",
    "    print(data[kolom].nunique())"
   ]
  },
  {
   "cell_type": "markdown",
   "id": "dc54490b",
   "metadata": {},
   "source": [
    "Encode Data"
   ]
  },
  {
   "cell_type": "code",
   "execution_count": 13,
   "id": "23cada20",
   "metadata": {},
   "outputs": [],
   "source": [
    "ohe = ['department', 'region', 'recruitment_channel']\n",
    "\n",
    "df = pd.get_dummies(data, columns=ohe)\n",
    "\n",
    "df['education'] = df['education'].replace({\"Bachelor's\": 1, \"Master's & above\": 2, \"Below Secondary\": 0})\n",
    "\n",
    "from sklearn.preprocessing import LabelEncoder\n",
    "le = LabelEncoder()\n",
    "df['gender'] = le.fit_transform(df['gender'])"
   ]
  },
  {
   "cell_type": "code",
   "execution_count": 14,
   "id": "9f9d6c64",
   "metadata": {},
   "outputs": [],
   "source": [
    "df.drop(columns=['employee_id'], inplace=True)"
   ]
  },
  {
   "cell_type": "code",
   "execution_count": 15,
   "id": "2abb0371",
   "metadata": {},
   "outputs": [],
   "source": [
    "label = df['is_promoted']\n",
    "df_corr = df.drop(columns=['is_promoted'])\n",
    "df_corr['Label'] = label"
   ]
  },
  {
   "cell_type": "code",
   "execution_count": 16,
   "id": "c2cd9605",
   "metadata": {
    "scrolled": true
   },
   "outputs": [
    {
     "data": {
      "text/plain": [
       "Text(0.5, 1.0, 'Heatmap Correlation for is_Promoted')"
      ]
     },
     "execution_count": 16,
     "metadata": {},
     "output_type": "execute_result"
    },
    {
     "data": {
      "image/png": "[encoded data removed]",
      "text/plain": [
       "<Figure size 3600x720 with 2 Axes>"
      ]
     },
     "metadata": {},
     "output_type": "display_data"
    }
   ],
   "source": [
    "corr = df_corr.corr()\n",
    "corr2 = corr.iloc[-1:,:]\n",
    "\n",
    "plt.figure(figsize=(50, 10))\n",
    "ax = sns.heatmap(corr2, annot=True, vmin=-1, vmax=1, center=0)\n",
    "bottom, top = ax.get_ylim()\n",
    "ax.set_ylim(bottom + 0.5, top - 0.5)\n",
    "plt.title('Heatmap Correlation for is_Promoted')"
   ]
  },
  {
   "cell_type": "markdown",
   "id": "92f526c8",
   "metadata": {},
   "source": [
    "Feature yang memiliki korelasi lumayan tinggi terhadap target\n",
    "\n",
    "- previous_year_rating\n",
    "- KPIs_met >80%\n",
    "- awards_won?\n",
    "- avg_training_score"
   ]
  },
  {
   "cell_type": "markdown",
   "id": "9a3af8bd",
   "metadata": {},
   "source": [
    "Split Data"
   ]
  },
  {
   "cell_type": "code",
   "execution_count": 17,
   "id": "3c91f26b",
   "metadata": {},
   "outputs": [],
   "source": [
    "from sklearn.model_selection import train_test_split"
   ]
  },
  {
   "cell_type": "code",
   "execution_count": 37,
   "id": "42b6351b",
   "metadata": {},
   "outputs": [],
   "source": [
    "X = df.drop('is_promoted', axis=1)\n",
    "y = df[['is_promoted']]\n",
    "\n",
    "X_train, X_test, y_train, y_test = train_test_split(X, y, test_size=0.2, random_state=42)"
   ]
  },
  {
   "cell_type": "markdown",
   "id": "e4527922",
   "metadata": {},
   "source": [
    "Sampling"
   ]
  },
  {
   "cell_type": "code",
   "execution_count": 38,
   "id": "dd90c33b",
   "metadata": {},
   "outputs": [],
   "source": [
    "from imblearn.over_sampling import SMOTE\n",
    "\n",
    "oversample = SMOTE()\n",
    "\n",
    "X_smote, y_smote = oversample.fit_resample(X_train, y_train)"
   ]
  },
  {
   "cell_type": "code",
   "execution_count": 39,
   "id": "963912f8",
   "metadata": {},
   "outputs": [],
   "source": [
    "from imblearn.under_sampling import RandomUnderSampler\n",
    "\n",
    "undersample = RandomUnderSampler()\n",
    "\n",
    "X_under, y_under = undersample.fit_resample(X_train, y_train)"
   ]
  },
  {
   "cell_type": "markdown",
   "id": "de4ecdd7",
   "metadata": {},
   "source": [
    "### Modeling"
   ]
  },
  {
   "cell_type": "markdown",
   "id": "5f10265f",
   "metadata": {},
   "source": [
    "Base Model"
   ]
  },
  {
   "cell_type": "code",
   "execution_count": 21,
   "id": "617299f4",
   "metadata": {},
   "outputs": [],
   "source": [
    "from sklearn.ensemble import RandomForestClassifier\n",
    "\n",
    "model_rf_smote = RandomForestClassifier()\n",
    "model_rf_under = RandomForestClassifier()\n",
    "\n",
    "model_rf_smote.fit(X_smote, y_smote)\n",
    "model_rf_under.fit(X_under, y_under)\n",
    "\n",
    "pred_rf_smote = model_rf_smote.predict(X_test)\n",
    "pred_rf_under = model_rf_under.predict(X_test)"
   ]
  },
  {
   "cell_type": "code",
   "execution_count": 22,
   "id": "aa2e51c9",
   "metadata": {},
   "outputs": [],
   "source": [
    "from sklearn.metrics import plot_confusion_matrix, classification_report"
   ]
  },
  {
   "cell_type": "code",
   "execution_count": 23,
   "id": "78fb19f5",
   "metadata": {},
   "outputs": [
    {
     "name": "stdout",
     "output_type": "stream",
     "text": [
      "              precision    recall  f1-score   support\n",
      "\n",
      "           0       0.93      0.98      0.95      5976\n",
      "           1       0.54      0.29      0.38       601\n",
      "\n",
      "    accuracy                           0.91      6577\n",
      "   macro avg       0.74      0.63      0.67      6577\n",
      "weighted avg       0.90      0.91      0.90      6577\n",
      "\n"
     ]
    },
    {
     "data": {
      "image/png": "[encoded data removed]",
      "text/plain": [
       "<Figure size 432x288 with 2 Axes>"
      ]
     },
     "metadata": {},
     "output_type": "display_data"
    }
   ],
   "source": [
    "#smote\n",
    "plot_confusion_matrix(model_rf_smote, X_test, y_test)\n",
    "plt.grid(False)\n",
    "print(classification_report(y_test, pred_rf_smote))"
   ]
  },
  {
   "cell_type": "code",
   "execution_count": 24,
   "id": "3182e4d2",
   "metadata": {},
   "outputs": [
    {
     "name": "stdout",
     "output_type": "stream",
     "text": [
      "              precision    recall  f1-score   support\n",
      "\n",
      "           0       0.98      0.75      0.85      5976\n",
      "           1       0.25      0.85      0.39       601\n",
      "\n",
      "    accuracy                           0.76      6577\n",
      "   macro avg       0.62      0.80      0.62      6577\n",
      "weighted avg       0.91      0.76      0.81      6577\n",
      "\n"
     ]
    },
    {
     "data": {
      "image/png": "[encoded data removed]",
      "text/plain": [
       "<Figure size 432x288 with 2 Axes>"
      ]
     },
     "metadata": {},
     "output_type": "display_data"
    }
   ],
   "source": [
    "#under\n",
    "plot_confusion_matrix(model_rf_under, X_test, y_test)\n",
    "plt.grid(False)\n",
    "print(classification_report(y_test, pred_rf_under))"
   ]
  },
  {
   "cell_type": "code",
   "execution_count": 25,
   "id": "ba9686a6",
   "metadata": {},
   "outputs": [],
   "source": [
    "fi_df = pd.DataFrame({\n",
    "    'Feature' : list(X_smote.columns),\n",
    "    'FI_smote' : model_rf_smote.feature_importances_,\n",
    "    'FI_under' : model_rf_under.feature_importances_\n",
    "})"
   ]
  },
  {
   "cell_type": "code",
   "execution_count": 26,
   "id": "30979812",
   "metadata": {},
   "outputs": [
    {
     "data": {
      "text/html": [
       "<div>\n",
       "<style scoped>\n",
       "    .dataframe tbody tr th:only-of-type {\n",
       "        vertical-align: middle;\n",
       "    }\n",
       "\n",
       "    .dataframe tbody tr th {\n",
       "        vertical-align: top;\n",
       "    }\n",
       "\n",
       "    .dataframe thead th {\n",
       "        text-align: right;\n",
       "    }\n",
       "</style>\n",
       "<table border=\"1\" class=\"dataframe\">\n",
       "  <thead>\n",
       "    <tr style=\"text-align: right;\">\n",
       "      <th></th>\n",
       "      <th>Feature</th>\n",
       "      <th>FI_smote</th>\n",
       "      <th>FI_under</th>\n",
       "    </tr>\n",
       "  </thead>\n",
       "  <tbody>\n",
       "    <tr>\n",
       "      <th>7</th>\n",
       "      <td>avg_training_score</td>\n",
       "      <td>0.173284</td>\n",
       "      <td>0.216635</td>\n",
       "    </tr>\n",
       "    <tr>\n",
       "      <th>3</th>\n",
       "      <td>previous_year_rating</td>\n",
       "      <td>0.140471</td>\n",
       "      <td>0.087021</td>\n",
       "    </tr>\n",
       "    <tr>\n",
       "      <th>5</th>\n",
       "      <td>KPIs_met &gt;80%</td>\n",
       "      <td>0.074319</td>\n",
       "      <td>0.122895</td>\n",
       "    </tr>\n",
       "    <tr>\n",
       "      <th>2</th>\n",
       "      <td>age</td>\n",
       "      <td>0.069853</td>\n",
       "      <td>0.102782</td>\n",
       "    </tr>\n",
       "    <tr>\n",
       "      <th>4</th>\n",
       "      <td>length_of_service</td>\n",
       "      <td>0.055221</td>\n",
       "      <td>0.083097</td>\n",
       "    </tr>\n",
       "    <tr>\n",
       "      <th>53</th>\n",
       "      <td>recruitment_channel_sourcing</td>\n",
       "      <td>0.047170</td>\n",
       "      <td>0.015609</td>\n",
       "    </tr>\n",
       "    <tr>\n",
       "      <th>51</th>\n",
       "      <td>recruitment_channel_other</td>\n",
       "      <td>0.036406</td>\n",
       "      <td>0.015895</td>\n",
       "    </tr>\n",
       "    <tr>\n",
       "      <th>28</th>\n",
       "      <td>region_region_2</td>\n",
       "      <td>0.030888</td>\n",
       "      <td>0.014665</td>\n",
       "    </tr>\n",
       "    <tr>\n",
       "      <th>1</th>\n",
       "      <td>no_of_trainings</td>\n",
       "      <td>0.023977</td>\n",
       "      <td>0.023646</td>\n",
       "    </tr>\n",
       "    <tr>\n",
       "      <th>56</th>\n",
       "      <td>education_Master's &amp; above</td>\n",
       "      <td>0.021743</td>\n",
       "      <td>0.009468</td>\n",
       "    </tr>\n",
       "  </tbody>\n",
       "</table>\n",
       "</div>"
      ],
      "text/plain": [
       "                         Feature  FI_smote  FI_under\n",
       "7             avg_training_score  0.173284  0.216635\n",
       "3           previous_year_rating  0.140471  0.087021\n",
       "5                  KPIs_met >80%  0.074319  0.122895\n",
       "2                            age  0.069853  0.102782\n",
       "4              length_of_service  0.055221  0.083097\n",
       "53  recruitment_channel_sourcing  0.047170  0.015609\n",
       "51     recruitment_channel_other  0.036406  0.015895\n",
       "28               region_region_2  0.030888  0.014665\n",
       "1                no_of_trainings  0.023977  0.023646\n",
       "56    education_Master's & above  0.021743  0.009468"
      ]
     },
     "execution_count": 26,
     "metadata": {},
     "output_type": "execute_result"
    }
   ],
   "source": [
    "#smote\n",
    "fi_df.sort_values(by='FI_smote', ascending=False).head(10)"
   ]
  },
  {
   "cell_type": "code",
   "execution_count": 27,
   "id": "f8857b20",
   "metadata": {},
   "outputs": [
    {
     "data": {
      "text/html": [
       "<div>\n",
       "<style scoped>\n",
       "    .dataframe tbody tr th:only-of-type {\n",
       "        vertical-align: middle;\n",
       "    }\n",
       "\n",
       "    .dataframe tbody tr th {\n",
       "        vertical-align: top;\n",
       "    }\n",
       "\n",
       "    .dataframe thead th {\n",
       "        text-align: right;\n",
       "    }\n",
       "</style>\n",
       "<table border=\"1\" class=\"dataframe\">\n",
       "  <thead>\n",
       "    <tr style=\"text-align: right;\">\n",
       "      <th></th>\n",
       "      <th>Feature</th>\n",
       "      <th>FI_smote</th>\n",
       "      <th>FI_under</th>\n",
       "    </tr>\n",
       "  </thead>\n",
       "  <tbody>\n",
       "    <tr>\n",
       "      <th>7</th>\n",
       "      <td>avg_training_score</td>\n",
       "      <td>0.173284</td>\n",
       "      <td>0.216635</td>\n",
       "    </tr>\n",
       "    <tr>\n",
       "      <th>5</th>\n",
       "      <td>KPIs_met &gt;80%</td>\n",
       "      <td>0.074319</td>\n",
       "      <td>0.122895</td>\n",
       "    </tr>\n",
       "    <tr>\n",
       "      <th>2</th>\n",
       "      <td>age</td>\n",
       "      <td>0.069853</td>\n",
       "      <td>0.102782</td>\n",
       "    </tr>\n",
       "    <tr>\n",
       "      <th>3</th>\n",
       "      <td>previous_year_rating</td>\n",
       "      <td>0.140471</td>\n",
       "      <td>0.087021</td>\n",
       "    </tr>\n",
       "    <tr>\n",
       "      <th>4</th>\n",
       "      <td>length_of_service</td>\n",
       "      <td>0.055221</td>\n",
       "      <td>0.083097</td>\n",
       "    </tr>\n",
       "    <tr>\n",
       "      <th>6</th>\n",
       "      <td>awards_won?</td>\n",
       "      <td>0.005260</td>\n",
       "      <td>0.030364</td>\n",
       "    </tr>\n",
       "    <tr>\n",
       "      <th>15</th>\n",
       "      <td>department_Sales &amp; Marketing</td>\n",
       "      <td>0.017014</td>\n",
       "      <td>0.027016</td>\n",
       "    </tr>\n",
       "    <tr>\n",
       "      <th>1</th>\n",
       "      <td>no_of_trainings</td>\n",
       "      <td>0.023977</td>\n",
       "      <td>0.023646</td>\n",
       "    </tr>\n",
       "    <tr>\n",
       "      <th>0</th>\n",
       "      <td>gender</td>\n",
       "      <td>0.018344</td>\n",
       "      <td>0.021435</td>\n",
       "    </tr>\n",
       "    <tr>\n",
       "      <th>12</th>\n",
       "      <td>department_Operations</td>\n",
       "      <td>0.020716</td>\n",
       "      <td>0.016965</td>\n",
       "    </tr>\n",
       "  </tbody>\n",
       "</table>\n",
       "</div>"
      ],
      "text/plain": [
       "                         Feature  FI_smote  FI_under\n",
       "7             avg_training_score  0.173284  0.216635\n",
       "5                  KPIs_met >80%  0.074319  0.122895\n",
       "2                            age  0.069853  0.102782\n",
       "3           previous_year_rating  0.140471  0.087021\n",
       "4              length_of_service  0.055221  0.083097\n",
       "6                    awards_won?  0.005260  0.030364\n",
       "15  department_Sales & Marketing  0.017014  0.027016\n",
       "1                no_of_trainings  0.023977  0.023646\n",
       "0                         gender  0.018344  0.021435\n",
       "12         department_Operations  0.020716  0.016965"
      ]
     },
     "execution_count": 27,
     "metadata": {},
     "output_type": "execute_result"
    }
   ],
   "source": [
    "#under\n",
    "fi_df.sort_values(by='FI_under', ascending=False).head(10)"
   ]
  },
  {
   "cell_type": "markdown",
   "id": "6b5015ee",
   "metadata": {},
   "source": [
    "5 teratas keduanya dengan score yang cukup signifikan dibanding bawahnya adalah\n",
    "\n",
    "- avg_training_score\n",
    "- KPIs_met>80%\n",
    "- age\n",
    "- previous_year_rating\n",
    "- length_of_service"
   ]
  },
  {
   "cell_type": "markdown",
   "id": "6a060b3a",
   "metadata": {},
   "source": [
    "Model Selection"
   ]
  },
  {
   "cell_type": "code",
   "execution_count": 28,
   "id": "ad70707b",
   "metadata": {},
   "outputs": [
    {
     "data": {
      "text/html": [
       "<div>\n",
       "<style scoped>\n",
       "    .dataframe tbody tr th:only-of-type {\n",
       "        vertical-align: middle;\n",
       "    }\n",
       "\n",
       "    .dataframe tbody tr th {\n",
       "        vertical-align: top;\n",
       "    }\n",
       "\n",
       "    .dataframe thead th {\n",
       "        text-align: right;\n",
       "    }\n",
       "</style>\n",
       "<table border=\"1\" class=\"dataframe\">\n",
       "  <thead>\n",
       "    <tr style=\"text-align: right;\">\n",
       "      <th></th>\n",
       "      <th>employee_id</th>\n",
       "      <th>department</th>\n",
       "      <th>region</th>\n",
       "      <th>education</th>\n",
       "      <th>gender</th>\n",
       "      <th>recruitment_channel</th>\n",
       "      <th>no_of_trainings</th>\n",
       "      <th>age</th>\n",
       "      <th>previous_year_rating</th>\n",
       "      <th>length_of_service</th>\n",
       "      <th>KPIs_met &gt;80%</th>\n",
       "      <th>awards_won?</th>\n",
       "      <th>avg_training_score</th>\n",
       "      <th>is_promoted</th>\n",
       "    </tr>\n",
       "  </thead>\n",
       "  <tbody>\n",
       "    <tr>\n",
       "      <th>0</th>\n",
       "      <td>1264</td>\n",
       "      <td>Finance</td>\n",
       "      <td>region_7</td>\n",
       "      <td>Bachelor's</td>\n",
       "      <td>m</td>\n",
       "      <td>other</td>\n",
       "      <td>1</td>\n",
       "      <td>31</td>\n",
       "      <td>3.0</td>\n",
       "      <td>3</td>\n",
       "      <td>0</td>\n",
       "      <td>0</td>\n",
       "      <td>62</td>\n",
       "      <td>0</td>\n",
       "    </tr>\n",
       "    <tr>\n",
       "      <th>1</th>\n",
       "      <td>18375</td>\n",
       "      <td>Finance</td>\n",
       "      <td>region_7</td>\n",
       "      <td>Bachelor's</td>\n",
       "      <td>m</td>\n",
       "      <td>other</td>\n",
       "      <td>1</td>\n",
       "      <td>31</td>\n",
       "      <td>5.0</td>\n",
       "      <td>7</td>\n",
       "      <td>1</td>\n",
       "      <td>0</td>\n",
       "      <td>62</td>\n",
       "      <td>0</td>\n",
       "    </tr>\n",
       "    <tr>\n",
       "      <th>2</th>\n",
       "      <td>34167</td>\n",
       "      <td>Operations</td>\n",
       "      <td>region_2</td>\n",
       "      <td>Bachelor's</td>\n",
       "      <td>m</td>\n",
       "      <td>other</td>\n",
       "      <td>1</td>\n",
       "      <td>53</td>\n",
       "      <td>3.0</td>\n",
       "      <td>22</td>\n",
       "      <td>0</td>\n",
       "      <td>0</td>\n",
       "      <td>67</td>\n",
       "      <td>0</td>\n",
       "    </tr>\n",
       "    <tr>\n",
       "      <th>3</th>\n",
       "      <td>14280</td>\n",
       "      <td>Technology</td>\n",
       "      <td>region_29</td>\n",
       "      <td>Bachelor's</td>\n",
       "      <td>m</td>\n",
       "      <td>other</td>\n",
       "      <td>1</td>\n",
       "      <td>27</td>\n",
       "      <td>2.0</td>\n",
       "      <td>2</td>\n",
       "      <td>1</td>\n",
       "      <td>0</td>\n",
       "      <td>81</td>\n",
       "      <td>0</td>\n",
       "    </tr>\n",
       "    <tr>\n",
       "      <th>4</th>\n",
       "      <td>24219</td>\n",
       "      <td>Sales &amp; Marketing</td>\n",
       "      <td>region_26</td>\n",
       "      <td>Bachelor's</td>\n",
       "      <td>m</td>\n",
       "      <td>other</td>\n",
       "      <td>1</td>\n",
       "      <td>44</td>\n",
       "      <td>3.0</td>\n",
       "      <td>6</td>\n",
       "      <td>1</td>\n",
       "      <td>0</td>\n",
       "      <td>57</td>\n",
       "      <td>0</td>\n",
       "    </tr>\n",
       "  </tbody>\n",
       "</table>\n",
       "</div>"
      ],
      "text/plain": [
       "   employee_id         department     region   education gender  \\\n",
       "0         1264            Finance   region_7  Bachelor's      m   \n",
       "1        18375            Finance   region_7  Bachelor's      m   \n",
       "2        34167         Operations   region_2  Bachelor's      m   \n",
       "3        14280         Technology  region_29  Bachelor's      m   \n",
       "4        24219  Sales & Marketing  region_26  Bachelor's      m   \n",
       "\n",
       "  recruitment_channel  no_of_trainings  age  previous_year_rating  \\\n",
       "0               other                1   31                   3.0   \n",
       "1               other                1   31                   5.0   \n",
       "2               other                1   53                   3.0   \n",
       "3               other                1   27                   2.0   \n",
       "4               other                1   44                   3.0   \n",
       "\n",
       "   length_of_service  KPIs_met >80%  awards_won?  avg_training_score  \\\n",
       "0                  3              0            0                  62   \n",
       "1                  7              1            0                  62   \n",
       "2                 22              0            0                  67   \n",
       "3                  2              1            0                  81   \n",
       "4                  6              1            0                  57   \n",
       "\n",
       "   is_promoted  \n",
       "0            0  \n",
       "1            0  \n",
       "2            0  \n",
       "3            0  \n",
       "4            0  "
      ]
     },
     "execution_count": 28,
     "metadata": {},
     "output_type": "execute_result"
    }
   ],
   "source": [
    "data.head()"
   ]
  },
  {
   "cell_type": "code",
   "execution_count": 29,
   "id": "40bf27aa",
   "metadata": {
    "scrolled": false
   },
   "outputs": [
    {
     "data": {
      "text/html": [
       "<div>\n",
       "<style scoped>\n",
       "    .dataframe tbody tr th:only-of-type {\n",
       "        vertical-align: middle;\n",
       "    }\n",
       "\n",
       "    .dataframe tbody tr th {\n",
       "        vertical-align: top;\n",
       "    }\n",
       "\n",
       "    .dataframe thead th {\n",
       "        text-align: right;\n",
       "    }\n",
       "</style>\n",
       "<table border=\"1\" class=\"dataframe\">\n",
       "  <thead>\n",
       "    <tr style=\"text-align: right;\">\n",
       "      <th></th>\n",
       "      <th>age</th>\n",
       "      <th>previous_year_rating</th>\n",
       "      <th>length_of_service</th>\n",
       "      <th>KPIs_met &gt;80%</th>\n",
       "      <th>awards_won?</th>\n",
       "      <th>avg_training_score</th>\n",
       "    </tr>\n",
       "  </thead>\n",
       "  <tbody>\n",
       "    <tr>\n",
       "      <th>0</th>\n",
       "      <td>31</td>\n",
       "      <td>3.0</td>\n",
       "      <td>3</td>\n",
       "      <td>0</td>\n",
       "      <td>0</td>\n",
       "      <td>62</td>\n",
       "    </tr>\n",
       "    <tr>\n",
       "      <th>1</th>\n",
       "      <td>31</td>\n",
       "      <td>5.0</td>\n",
       "      <td>7</td>\n",
       "      <td>1</td>\n",
       "      <td>0</td>\n",
       "      <td>62</td>\n",
       "    </tr>\n",
       "    <tr>\n",
       "      <th>2</th>\n",
       "      <td>53</td>\n",
       "      <td>3.0</td>\n",
       "      <td>22</td>\n",
       "      <td>0</td>\n",
       "      <td>0</td>\n",
       "      <td>67</td>\n",
       "    </tr>\n",
       "    <tr>\n",
       "      <th>3</th>\n",
       "      <td>27</td>\n",
       "      <td>2.0</td>\n",
       "      <td>2</td>\n",
       "      <td>1</td>\n",
       "      <td>0</td>\n",
       "      <td>81</td>\n",
       "    </tr>\n",
       "    <tr>\n",
       "      <th>4</th>\n",
       "      <td>44</td>\n",
       "      <td>3.0</td>\n",
       "      <td>6</td>\n",
       "      <td>1</td>\n",
       "      <td>0</td>\n",
       "      <td>57</td>\n",
       "    </tr>\n",
       "  </tbody>\n",
       "</table>\n",
       "</div>"
      ],
      "text/plain": [
       "   age  previous_year_rating  length_of_service  KPIs_met >80%  awards_won?  \\\n",
       "0   31                   3.0                  3              0            0   \n",
       "1   31                   5.0                  7              1            0   \n",
       "2   53                   3.0                 22              0            0   \n",
       "3   27                   2.0                  2              1            0   \n",
       "4   44                   3.0                  6              1            0   \n",
       "\n",
       "   avg_training_score  \n",
       "0                  62  \n",
       "1                  62  \n",
       "2                  67  \n",
       "3                  81  \n",
       "4                  57  "
      ]
     },
     "execution_count": 29,
     "metadata": {},
     "output_type": "execute_result"
    }
   ],
   "source": [
    "X_sel = df[['age', 'previous_year_rating', 'length_of_service', 'KPIs_met >80%', 'awards_won?', 'avg_training_score']]\n",
    "X_sel.head()"
   ]
  },
  {
   "cell_type": "code",
   "execution_count": 30,
   "id": "f2aef522",
   "metadata": {},
   "outputs": [],
   "source": [
    "X_train, X_test, y_train, y_test = train_test_split(X_sel, y, test_size=0.2, random_state=42)"
   ]
  },
  {
   "cell_type": "markdown",
   "id": "35926abd",
   "metadata": {},
   "source": [
    "Sampling"
   ]
  },
  {
   "cell_type": "code",
   "execution_count": 31,
   "id": "f0d38e38",
   "metadata": {},
   "outputs": [],
   "source": [
    "from imblearn.over_sampling import SMOTE\n",
    "\n",
    "oversample = SMOTE()\n",
    "\n",
    "X_smote, y_smote = oversample.fit_resample(X_train, y_train)"
   ]
  },
  {
   "cell_type": "code",
   "execution_count": 32,
   "id": "6d1a6ca4",
   "metadata": {},
   "outputs": [],
   "source": [
    "from imblearn.under_sampling import RandomUnderSampler\n",
    "\n",
    "undersample = RandomUnderSampler()\n",
    "\n",
    "X_under, y_under = undersample.fit_resample(X_train, y_train)"
   ]
  },
  {
   "cell_type": "markdown",
   "id": "248bf5a8",
   "metadata": {},
   "source": [
    "### Modeling"
   ]
  },
  {
   "cell_type": "code",
   "execution_count": 33,
   "id": "676e3d94",
   "metadata": {},
   "outputs": [],
   "source": [
    "from sklearn.ensemble import RandomForestClassifier\n",
    "\n",
    "model_rf_smote = RandomForestClassifier()\n",
    "model_rf_under = RandomForestClassifier()\n",
    "\n",
    "model_rf_smote.fit(X_smote, y_smote)\n",
    "model_rf_under.fit(X_under, y_under)\n",
    "\n",
    "pred_rf_smote = model_rf_smote.predict(X_test)\n",
    "pred_rf_under = model_rf_under.predict(X_test)"
   ]
  },
  {
   "cell_type": "code",
   "execution_count": 34,
   "id": "37089766",
   "metadata": {},
   "outputs": [],
   "source": [
    "from sklearn.metrics import plot_confusion_matrix, classification_report"
   ]
  },
  {
   "cell_type": "code",
   "execution_count": 35,
   "id": "cadf05dd",
   "metadata": {},
   "outputs": [
    {
     "name": "stdout",
     "output_type": "stream",
     "text": [
      "              precision    recall  f1-score   support\n",
      "\n",
      "           0       0.93      0.89      0.91      5976\n",
      "           1       0.24      0.33      0.28       601\n",
      "\n",
      "    accuracy                           0.84      6577\n",
      "   macro avg       0.58      0.61      0.59      6577\n",
      "weighted avg       0.87      0.84      0.85      6577\n",
      "\n"
     ]
    },
    {
     "data": {
      "image/png": "[encoded data removed]",
      "text/plain": [
       "<Figure size 432x288 with 2 Axes>"
      ]
     },
     "metadata": {},
     "output_type": "display_data"
    }
   ],
   "source": [
    "#smote\n",
    "plot_confusion_matrix(model_rf_smote, X_test, y_test)\n",
    "plt.grid(False)\n",
    "print(classification_report(y_test, pred_rf_smote))"
   ]
  },
  {
   "cell_type": "code",
   "execution_count": 36,
   "id": "0256f1a8",
   "metadata": {},
   "outputs": [
    {
     "name": "stdout",
     "output_type": "stream",
     "text": [
      "              precision    recall  f1-score   support\n",
      "\n",
      "           0       0.96      0.70      0.81      5976\n",
      "           1       0.19      0.72      0.31       601\n",
      "\n",
      "    accuracy                           0.70      6577\n",
      "   macro avg       0.58      0.71      0.56      6577\n",
      "weighted avg       0.89      0.70      0.76      6577\n",
      "\n"
     ]
    },
    {
     "data": {
      "image/png": "[encoded data removed]",
      "text/plain": [
       "<Figure size 432x288 with 2 Axes>"
      ]
     },
     "metadata": {},
     "output_type": "display_data"
    }
   ],
   "source": [
    "#under\n",
    "plot_confusion_matrix(model_rf_under, X_test, y_test)\n",
    "plt.grid(False)\n",
    "print(classification_report(y_test, pred_rf_under))"
   ]
  },
  {
   "cell_type": "markdown",
   "id": "242c0d64",
   "metadata": {},
   "source": [
    "### Model Selection and Hyperparameter Tuning"
   ]
  },
  {
   "cell_type": "markdown",
   "id": "13ed7612",
   "metadata": {},
   "source": [
    "SMOTE"
   ]
  },
  {
   "cell_type": "code",
   "execution_count": 40,
   "id": "3f35d54a",
   "metadata": {},
   "outputs": [],
   "source": [
    "from sklearn.tree import DecisionTreeClassifier\n",
    "from sklearn.ensemble import RandomForestClassifier\n",
    "from sklearn.ensemble import GradientBoostingClassifier"
   ]
  },
  {
   "cell_type": "code",
   "execution_count": 41,
   "id": "aa0e7fdf",
   "metadata": {},
   "outputs": [],
   "source": [
    "model_params = {\n",
    "    'DecisionTree': {\n",
    "        'model': DecisionTreeClassifier(),\n",
    "        'params' : {\n",
    "            'criterion' : ['gini', 'entropy'],\n",
    "            'min_samples_split': [1, 2, 3],\n",
    "            'min_samples_leaf' : [1, 2, 3]\n",
    "        }  \n",
    "    },\n",
    "    'random_forest': {\n",
    "        'model': RandomForestClassifier(),\n",
    "        'params' : {\n",
    "            'n_estimators': [i for i in range(100,800,200)],\n",
    "            'criterion' : ['gini', 'entropy'],\n",
    "            'max_features' : ['auto', 'sqrt', 'log2'],\n",
    "            'n_jobs' : [-1]\n",
    "        }\n",
    "    },\n",
    "    'xgboost' : {\n",
    "        'model': GradientBoostingClassifier(),\n",
    "        'params': {\n",
    "            'loss': ['deviance', 'exponential'],\n",
    "            'learning_rate' : [0.1, 0.2],\n",
    "            'n_estimators': [i for i in range(100,600,200)]\n",
    "        }\n",
    "    }\n",
    "}"
   ]
  },
  {
   "cell_type": "code",
   "execution_count": 42,
   "id": "6e3458ff",
   "metadata": {},
   "outputs": [
    {
     "name": "stdout",
     "output_type": "stream",
     "text": [
      "0:23:21.279082\n"
     ]
    },
    {
     "data": {
      "text/html": [
       "<div>\n",
       "<style scoped>\n",
       "    .dataframe tbody tr th:only-of-type {\n",
       "        vertical-align: middle;\n",
       "    }\n",
       "\n",
       "    .dataframe tbody tr th {\n",
       "        vertical-align: top;\n",
       "    }\n",
       "\n",
       "    .dataframe thead th {\n",
       "        text-align: right;\n",
       "    }\n",
       "</style>\n",
       "<table border=\"1\" class=\"dataframe\">\n",
       "  <thead>\n",
       "    <tr style=\"text-align: right;\">\n",
       "      <th></th>\n",
       "      <th>model</th>\n",
       "      <th>best_score</th>\n",
       "      <th>best_params</th>\n",
       "    </tr>\n",
       "  </thead>\n",
       "  <tbody>\n",
       "    <tr>\n",
       "      <th>0</th>\n",
       "      <td>DecisionTree</td>\n",
       "      <td>0.942329</td>\n",
       "      <td>{'criterion': 'entropy', 'min_samples_leaf': 2...</td>\n",
       "    </tr>\n",
       "    <tr>\n",
       "      <th>1</th>\n",
       "      <td>random_forest</td>\n",
       "      <td>0.955005</td>\n",
       "      <td>{'criterion': 'gini', 'max_features': 'sqrt', ...</td>\n",
       "    </tr>\n",
       "    <tr>\n",
       "      <th>2</th>\n",
       "      <td>xgboost</td>\n",
       "      <td>0.948782</td>\n",
       "      <td>{'learning_rate': 0.2, 'loss': 'deviance', 'n_...</td>\n",
       "    </tr>\n",
       "  </tbody>\n",
       "</table>\n",
       "</div>"
      ],
      "text/plain": [
       "           model  best_score  \\\n",
       "0   DecisionTree    0.942329   \n",
       "1  random_forest    0.955005   \n",
       "2        xgboost    0.948782   \n",
       "\n",
       "                                         best_params  \n",
       "0  {'criterion': 'entropy', 'min_samples_leaf': 2...  \n",
       "1  {'criterion': 'gini', 'max_features': 'sqrt', ...  \n",
       "2  {'learning_rate': 0.2, 'loss': 'deviance', 'n_...  "
      ]
     },
     "execution_count": 42,
     "metadata": {},
     "output_type": "execute_result"
    }
   ],
   "source": [
    "from sklearn.model_selection import GridSearchCV\n",
    "from datetime import datetime\n",
    "scores = []\n",
    "\n",
    "start = datetime.now()\n",
    "\n",
    "for model_name, mp in model_params.items():\n",
    "    clf =  GridSearchCV(mp['model'], mp['params'], cv=5, return_train_score=False)\n",
    "    clf.fit(X_smote, y_smote)\n",
    "    scores.append({\n",
    "        'model': model_name,\n",
    "        'best_score': clf.best_score_,\n",
    "        'best_params': clf.best_params_\n",
    "    })\n",
    "end = datetime.now()\n",
    "print(end-start)\n",
    "df = pd.DataFrame(scores,columns=['model','best_score','best_params'])\n",
    "df"
   ]
  },
  {
   "cell_type": "code",
   "execution_count": 43,
   "id": "8867db95",
   "metadata": {},
   "outputs": [
    {
     "data": {
      "text/plain": [
       "1    {'criterion': 'gini', 'max_features': 'sqrt', ...\n",
       "Name: best_params, dtype: object"
      ]
     },
     "execution_count": 43,
     "metadata": {},
     "output_type": "execute_result"
    }
   ],
   "source": [
    "df[df['model']=='random_forest']['best_params']"
   ]
  },
  {
   "cell_type": "code",
   "execution_count": 45,
   "id": "bd9f0354",
   "metadata": {},
   "outputs": [
    {
     "data": {
      "text/plain": [
       "{'criterion': 'gini',\n",
       " 'max_features': 'sqrt',\n",
       " 'n_estimators': 300,\n",
       " 'n_jobs': -1}"
      ]
     },
     "execution_count": 45,
     "metadata": {},
     "output_type": "execute_result"
    }
   ],
   "source": [
    "scores[1]['best_params']"
   ]
  },
  {
   "cell_type": "code",
   "execution_count": 46,
   "id": "7848ab94",
   "metadata": {},
   "outputs": [],
   "source": [
    "model = RandomForestClassifier(criterion='gini', max_features='sqrt', n_estimators=300, n_jobs=-1)\n",
    "\n",
    "model.fit(X_smote, y_smote)\n",
    "\n",
    "pred = model.predict(X_test)"
   ]
  },
  {
   "cell_type": "code",
   "execution_count": 47,
   "id": "2f62bdec",
   "metadata": {},
   "outputs": [],
   "source": [
    "from sklearn.metrics import plot_confusion_matrix, classification_report, roc_curve, roc_auc_score"
   ]
  },
  {
   "cell_type": "code",
   "execution_count": 48,
   "id": "1e4e71ae",
   "metadata": {},
   "outputs": [
    {
     "data": {
      "image/png": "[encoded data removed]",
      "text/plain": [
       "<Figure size 432x288 with 2 Axes>"
      ]
     },
     "metadata": {},
     "output_type": "display_data"
    }
   ],
   "source": [
    "plot_confusion_matrix(model, X_test, y_test)\n",
    "plt.grid(False)"
   ]
  },
  {
   "cell_type": "code",
   "execution_count": 49,
   "id": "3d53a928",
   "metadata": {},
   "outputs": [
    {
     "name": "stdout",
     "output_type": "stream",
     "text": [
      "              precision    recall  f1-score   support\n",
      "\n",
      "           0       0.93      0.97      0.95      5976\n",
      "           1       0.53      0.28      0.37       601\n",
      "\n",
      "    accuracy                           0.91      6577\n",
      "   macro avg       0.73      0.63      0.66      6577\n",
      "weighted avg       0.89      0.91      0.90      6577\n",
      "\n"
     ]
    }
   ],
   "source": [
    "print(classification_report(y_test, pred))"
   ]
  },
  {
   "cell_type": "markdown",
   "id": "1bef3faa",
   "metadata": {},
   "source": [
    "Under"
   ]
  },
  {
   "cell_type": "code",
   "execution_count": 50,
   "id": "8667cdc3",
   "metadata": {},
   "outputs": [
    {
     "name": "stdout",
     "output_type": "stream",
     "text": [
      "0:02:34.302187\n"
     ]
    },
    {
     "data": {
      "text/html": [
       "<div>\n",
       "<style scoped>\n",
       "    .dataframe tbody tr th:only-of-type {\n",
       "        vertical-align: middle;\n",
       "    }\n",
       "\n",
       "    .dataframe tbody tr th {\n",
       "        vertical-align: top;\n",
       "    }\n",
       "\n",
       "    .dataframe thead th {\n",
       "        text-align: right;\n",
       "    }\n",
       "</style>\n",
       "<table border=\"1\" class=\"dataframe\">\n",
       "  <thead>\n",
       "    <tr style=\"text-align: right;\">\n",
       "      <th></th>\n",
       "      <th>model</th>\n",
       "      <th>best_score</th>\n",
       "      <th>best_params</th>\n",
       "    </tr>\n",
       "  </thead>\n",
       "  <tbody>\n",
       "    <tr>\n",
       "      <th>0</th>\n",
       "      <td>DecisionTree</td>\n",
       "      <td>0.770913</td>\n",
       "      <td>{'criterion': 'gini', 'min_samples_leaf': 1, '...</td>\n",
       "    </tr>\n",
       "    <tr>\n",
       "      <th>1</th>\n",
       "      <td>random_forest</td>\n",
       "      <td>0.801355</td>\n",
       "      <td>{'criterion': 'entropy', 'max_features': 'sqrt...</td>\n",
       "    </tr>\n",
       "    <tr>\n",
       "      <th>2</th>\n",
       "      <td>xgboost</td>\n",
       "      <td>0.817783</td>\n",
       "      <td>{'learning_rate': 0.2, 'loss': 'exponential', ...</td>\n",
       "    </tr>\n",
       "  </tbody>\n",
       "</table>\n",
       "</div>"
      ],
      "text/plain": [
       "           model  best_score  \\\n",
       "0   DecisionTree    0.770913   \n",
       "1  random_forest    0.801355   \n",
       "2        xgboost    0.817783   \n",
       "\n",
       "                                         best_params  \n",
       "0  {'criterion': 'gini', 'min_samples_leaf': 1, '...  \n",
       "1  {'criterion': 'entropy', 'max_features': 'sqrt...  \n",
       "2  {'learning_rate': 0.2, 'loss': 'exponential', ...  "
      ]
     },
     "execution_count": 50,
     "metadata": {},
     "output_type": "execute_result"
    }
   ],
   "source": [
    "from sklearn.model_selection import GridSearchCV\n",
    "scores = []\n",
    "\n",
    "start = datetime.now()\n",
    "for model_name, mp in model_params.items():\n",
    "    clf =  GridSearchCV(mp['model'], mp['params'], cv=5, return_train_score=False)\n",
    "    clf.fit(X_under, y_under)\n",
    "    scores.append({\n",
    "        'model': model_name,\n",
    "        'best_score': clf.best_score_,\n",
    "        'best_params': clf.best_params_\n",
    "    })\n",
    "end = datetime.now()\n",
    "print(end-start)\n",
    "df = pd.DataFrame(scores,columns=['model','best_score','best_params'])\n",
    "df"
   ]
  },
  {
   "cell_type": "code",
   "execution_count": 51,
   "id": "68c95caa",
   "metadata": {},
   "outputs": [
    {
     "data": {
      "text/plain": [
       "{'learning_rate': 0.2, 'loss': 'exponential', 'n_estimators': 100}"
      ]
     },
     "execution_count": 51,
     "metadata": {},
     "output_type": "execute_result"
    }
   ],
   "source": [
    "scores[2]['best_params']"
   ]
  },
  {
   "cell_type": "code",
   "execution_count": 52,
   "id": "415b0987",
   "metadata": {},
   "outputs": [
    {
     "data": {
      "image/png": "[encoded data removed]",
      "text/plain": [
       "<Figure size 432x288 with 2 Axes>"
      ]
     },
     "metadata": {},
     "output_type": "display_data"
    }
   ],
   "source": [
    "model = GradientBoostingClassifier(learning_rate=0.2, loss='exponential', n_estimators=100)\n",
    "\n",
    "model.fit(X_under, y_under)\n",
    "\n",
    "pred = model.predict(X_test)\n",
    "\n",
    "plot_confusion_matrix(model, X_test, y_test)\n",
    "plt.grid(False)"
   ]
  },
  {
   "cell_type": "code",
   "execution_count": 53,
   "id": "0ad7ae36",
   "metadata": {},
   "outputs": [
    {
     "name": "stdout",
     "output_type": "stream",
     "text": [
      "              precision    recall  f1-score   support\n",
      "\n",
      "           0       0.98      0.73      0.84      5976\n",
      "           1       0.25      0.89      0.39       601\n",
      "\n",
      "    accuracy                           0.75      6577\n",
      "   macro avg       0.62      0.81      0.62      6577\n",
      "weighted avg       0.92      0.75      0.80      6577\n",
      "\n"
     ]
    }
   ],
   "source": [
    "print(classification_report(y_test, pred))"
   ]
  }
 ],
 "metadata": {
  "kernelspec": {
   "display_name": "Python 3",
   "language": "python",
   "name": "python3"
  },
  "language_info": {
   "codemirror_mode": {
    "name": "ipython",
    "version": 3
   },
   "file_extension": ".py",
   "mimetype": "text/x-python",
   "name": "python",
   "nbconvert_exporter": "python",
   "pygments_lexer": "ipython3",
   "version": "3.8.8"
  }
 },
 "nbformat": 4,
 "nbformat_minor": 5
}
